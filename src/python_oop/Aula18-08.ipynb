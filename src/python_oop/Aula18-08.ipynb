{
    "cells": [
        {
            "cell_type": "markdown",
            "id": "5963643f",
            "metadata": {},
            "source": [
                "## Recursão\n",
                "Alguns exemplos de código que utilizam recursão.\n",
                "\n",
                "**Palíndromos** são palavras ou frases que podem ser lidas da mesma maneira da esquerda para direita \n",
                "ou da direita para esquerda. Exemplos: ana, osso, radar, xanax."
            ]
        },
        {
            "cell_type": "code",
            "execution_count": 6,
            "id": "68749acc",
            "metadata": {},
            "outputs": [
                {
                    "name": "stdout",
                    "output_type": "stream",
                    "text": [
                        "xanax\n",
                        "ana\n",
                        "n\n",
                        "True\n",
                        "-----\n",
                        "xabcx\n",
                        "abc\n",
                        "False\n",
                        "-----\n",
                        "socorrammesubinoonibusemmarrocos\n",
                        "ocorrammesubinoonibusemmarroco\n",
                        "corrammesubinoonibusemmarroc\n",
                        "orrammesubinoonibusemmarro\n",
                        "rrammesubinoonibusemmarr\n",
                        "rammesubinoonibusemmar\n",
                        "ammesubinoonibusemma\n",
                        "mmesubinoonibusemm\n",
                        "mesubinoonibusem\n",
                        "esubinoonibuse\n",
                        "subinoonibus\n",
                        "ubinoonibu\n",
                        "binoonib\n",
                        "inooni\n",
                        "noon\n",
                        "oo\n",
                        "\n",
                        "True\n"
                    ]
                }
            ],
            "source": [
                "def normaliza(s: str) -> str:\n",
                "    palavra = s.lower()\n",
                "    resultado = ''\n",
                "\n",
                "    for c in palavra:\n",
                "        if c in 'abcdefghijklmnopqrstuvwxyz':\n",
                "            resultado += c\n",
                "    \n",
                "    return resultado\n",
                "\n",
                "def palindromo(palavra: str) -> bool:\n",
                "    print(palavra)\n",
                "\n",
                "    if len(palavra) > 1:\n",
                "        return palavra[0] == palavra[-1] and palindromo(palavra[1:-1])\n",
                "    else:\n",
                "        return True\n",
                "\n",
                "print(palindromo(normaliza('XANAX')))\n",
                "print('-----')\n",
                "print(palindromo(normaliza('XABCX')))\n",
                "print('-----')\n",
                "print(palindromo(normaliza('Socorram-me, subi no onibus em Marrocos')))\n"
            ]
        },
        {
            "cell_type": "markdown",
            "id": "e3f8f5be",
            "metadata": {},
            "source": [
                "**Soma de forma recursiva**"
            ]
        },
        {
            "cell_type": "code",
            "execution_count": 8,
            "id": "2e9e793b",
            "metadata": {},
            "outputs": [
                {
                    "name": "stdout",
                    "output_type": "stream",
                    "text": [
                        "15\n"
                    ]
                }
            ],
            "source": [
                "def soma_recursiva(n):\n",
                "    if n == 1:\n",
                "        return 1\n",
                "    else:\n",
                "        return n + soma_recursiva(n-1)\n",
                "\n",
                "print(soma_recursiva(5))"
            ]
        }
    ],
    "metadata": {
        "kernelspec": {
            "display_name": "Python 3",
            "language": "python",
            "name": "python3"
        },
        "language_info": {
            "codemirror_mode": {
                "name": "ipython",
                "version": 3
            },
            "file_extension": ".py",
            "mimetype": "text/x-python",
            "name": "python",
            "nbconvert_exporter": "python",
            "pygments_lexer": "ipython3",
            "version": "3.12.11"
        }
    },
    "nbformat": 4,
    "nbformat_minor": 5
}
