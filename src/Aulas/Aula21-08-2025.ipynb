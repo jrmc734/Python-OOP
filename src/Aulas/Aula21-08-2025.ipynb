{
 "cells": [
  {
   "cell_type": "markdown",
   "id": "402c073d",
   "metadata": {},
   "source": [
    "## POO - Python"
   ]
  },
  {
   "cell_type": "markdown",
   "id": "e624a6eb",
   "metadata": {},
   "source": [
    "\"The **self** parameter is a reference to the current instance of the class, and is used to access variables that belong to the class.\""
   ]
  },
  {
   "cell_type": "code",
   "execution_count": 1,
   "id": "f00ca5d5",
   "metadata": {},
   "outputs": [],
   "source": [
    "class Pessoa:\n",
    "    def __init__(self, nome, data_nasc, cpf, endereco):\n",
    "        self.nome = nome\n",
    "        self.data_nasc = data_nasc\n",
    "        self.cpf = cpf\n",
    "        self.endereco = endereco"
   ]
  },
  {
   "cell_type": "code",
   "execution_count": 5,
   "id": "7b7189ce",
   "metadata": {},
   "outputs": [
    {
     "name": "stdout",
     "output_type": "stream",
     "text": [
      "<__main__.Pessoa object at 0x0000023B718AD250> <class '__main__.Pessoa'>\n",
      "------\n"
     ]
    },
    {
     "data": {
      "text/plain": [
       "'12345678900'"
      ]
     },
     "execution_count": 5,
     "metadata": {},
     "output_type": "execute_result"
    }
   ],
   "source": [
    "p = Pessoa('Nome da pessoa', '12/12/2012', '12345678900', 'endereco')\n",
    "print(p, type(p))\n",
    "print('------')\n",
    "p.cpf"
   ]
  },
  {
   "cell_type": "code",
   "execution_count": null,
   "id": "90bfd652",
   "metadata": {},
   "outputs": [
    {
     "name": "stdout",
     "output_type": "stream",
     "text": [
      "Título: Interestelar. Ano: 2014. Diretor: Christopher Nolan.\n"
     ]
    }
   ],
   "source": [
    "class Filme:\n",
    "    def __init__(self,titulo, ano, diretor):\n",
    "        self.titulo = titulo\n",
    "        self.ano = ano\n",
    "        self.diretor = diretor\n",
    "    \n",
    "    def __str__(self): \n",
    "        return f'Título: {self.titulo}. Ano: {self.ano}. Diretor: {self.diretor}.'\n",
    "    \n",
    "interestelar = Filme('Interestelar', 2014, 'Christopher Nolan')\n",
    "print(interestelar)"
   ]
  },
  {
   "cell_type": "code",
   "execution_count": 23,
   "id": "e367a78e",
   "metadata": {},
   "outputs": [],
   "source": [
    "class Fila:\n",
    "    def __init__(self, *elementos):\n",
    "        self.fila = list(elementos)\n",
    "    \n",
    "    def __str__(self):\n",
    "        return f'Fila: {self.fila}'\n",
    "    \n",
    "    def __add__(self,outra_fila):\n",
    "        nova_fila = Fila()\n",
    "        nova_fila = self.fila + outra_fila.fila\n",
    "        return nova_fila\n",
    "    \n",
    "    def entrar(self, elemento):\n",
    "        self.fila.append(elemento)\n",
    "    \n",
    "    def tamanho_atual(self):\n",
    "        return len(self.fila)"
   ]
  },
  {
   "cell_type": "markdown",
   "id": "cc83e177",
   "metadata": {},
   "source": [
    "A função hash do python retorna a hash de um objeto, caso ele tenha um."
   ]
  },
  {
   "cell_type": "code",
   "execution_count": 24,
   "id": "0d10455b",
   "metadata": {},
   "outputs": [
    {
     "name": "stdout",
     "output_type": "stream",
     "text": [
      "Fila: [1, 2, 3]\n",
      "153396199641\n",
      "[1, 2, 3, 4, 5, 6]\n"
     ]
    }
   ],
   "source": [
    "f0 = Fila(1,2,3)\n",
    "f1 = Fila(4,5,6)\n",
    "print(f0)\n",
    "f0.tamanho_atual()\n",
    "print(hash(f0))\n",
    "print(f0+f1)"
   ]
  },
  {
   "cell_type": "markdown",
   "id": "70c4f419",
   "metadata": {},
   "source": [
    "## Dunder ou métodos mágicos\n",
    "São os métodos que começam e terminam com '__'\n",
    "\n",
    "Dunder = double underscores\n",
    "\n",
    "- ### __ str __()\n",
    "Ao definir o método __ str __() na classe, conseguimos controlar o que aparece quando demos print no objeto.\n",
    "\n",
    "O método __ str __ cria uma string que representa o objeto.\n",
    "\n",
    "- ### __ init __()\n",
    "É o método que inicializa automaticamente os atributos do objeto quando ele é criado.\n"
   ]
  }
 ],
 "metadata": {
  "kernelspec": {
   "display_name": "Python 3",
   "language": "python",
   "name": "python3"
  },
  "language_info": {
   "codemirror_mode": {
    "name": "ipython",
    "version": 3
   },
   "file_extension": ".py",
   "mimetype": "text/x-python",
   "name": "python",
   "nbconvert_exporter": "python",
   "pygments_lexer": "ipython3",
   "version": "3.11.9"
  }
 },
 "nbformat": 4,
 "nbformat_minor": 5
}
