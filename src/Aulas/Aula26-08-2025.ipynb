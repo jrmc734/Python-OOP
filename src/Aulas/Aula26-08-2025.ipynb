{
 "cells": [
  {
   "cell_type": "markdown",
   "id": "9925e226",
   "metadata": {},
   "source": [
    "### Dataclasses"
   ]
  },
  {
   "cell_type": "code",
   "execution_count": null,
   "id": "42cff882",
   "metadata": {},
   "outputs": [],
   "source": [
    "from dataclasses import dataclass\n",
    "\n",
    "@dataclass\n",
    "class Pessoa:\n",
    "    nome: str\n",
    "    idade: int\n",
    "\n",
    "if __name__ == '__main__':\n",
    "    p = Pessoa('Leonardo', 40)\n",
    "    print(p, id(p))\n",
    "\n",
    "    outra_pessoa = Pessoa(nome='Leonardo', idade=40)\n",
    "    print(outra_pessoa, id(outra_pessoa))\n",
    "\n",
    "    print(p == outra_pessoa) #apesar de serem objetos diferentes, a operação compara a saida do __repr__ dos objetos, compara a representação dos objetos"
   ]
  },
  {
   "cell_type": "code",
   "execution_count": 5,
   "id": "995d7b92",
   "metadata": {},
   "outputs": [
    {
     "name": "stdout",
     "output_type": "stream",
     "text": [
      "Equipe(nome=1, membros=[])\n",
      "Equipe(nome='Outro nome', membros=['1', '2', '3'])\n"
     ]
    }
   ],
   "source": [
    "from dataclasses import dataclass, field\n",
    "from typing import List\n",
    "\n",
    "@dataclass\n",
    "class Equipe:\n",
    "    nome: str\n",
    "    membros: List[str] = field(default_factory = list)\n",
    "\n",
    "if __name__ == '__main__':\n",
    "    e1 = Equipe(1)\n",
    "    e2 = Equipe('Outro nome',['1','2','3'])\n",
    "    print(e1)\n",
    "    print(e2)"
   ]
  },
  {
   "cell_type": "code",
   "execution_count": null,
   "id": "08ebd14d",
   "metadata": {},
   "outputs": [
    {
     "name": "stdout",
     "output_type": "stream",
     "text": [
      "Ponto(x=10, y=20)\n",
      "Conexao(host='host', porta=8888, ssl=False)\n"
     ]
    }
   ],
   "source": [
    "from dataclasses import dataclass, field\n",
    "from typing import List\n",
    "\n",
    "@dataclass(frozen = True) #faz com que x e y não possam ser modificados depois de criados, garante uma integridade dos dados\n",
    "class Ponto:\n",
    "    x: int\n",
    "    y: int\n",
    "\n",
    "@dataclass(kw_only = True)\n",
    "class Conexao:\n",
    "    host: str = 'localhost'\n",
    "    porta: int = 5423\n",
    "    ssl: bool = field(default = False)\n",
    "\n",
    "@dataclass\n",
    "class Usuario:\n",
    "    nome_usuario: str\n",
    "    email: str\n",
    "\n",
    "    # Método importante para validar os atributos\n",
    "    def __post_init__(self):\n",
    "        if '@' not in self.email:\n",
    "            raise ValueError('Email inválido')\n",
    "\n",
    "@dataclass\n",
    "class LoginCIn:\n",
    "    nome_completo: str\n",
    "    nome_usuario: str = field(init=False)\n",
    "    email: str = field(init=False)\n",
    "\n",
    "    def __post_init__(self):\n",
    "        nomes = self.nome_completo.lower().split(' ')\n",
    "        iniciais = [nome[0] for nome in nomes]\n",
    "        self.nome_usuario = ''.join(iniciais)\n",
    "        self.email = self.nome_usuario+'@cin.ufpe.br'\n",
    "        \n",
    "if __name__ == '__main__':\n",
    "    p1 = Ponto(10,20)\n",
    "    print(p1)\n",
    "\n",
    "    c = Conexao(host='host', porta=8888)\n",
    "    print(c)\n"
   ]
  },
  {
   "cell_type": "code",
   "execution_count": null,
   "id": "bdd765ce",
   "metadata": {},
   "outputs": [
    {
     "name": "stdout",
     "output_type": "stream",
     "text": [
      "Livro(titulo='Cosmos', autor='Carl Sagan', ano=1980)\n",
      "O livro Cosmos tem 45 anos\n"
     ]
    }
   ],
   "source": [
    "from dataclasses import dataclass\n",
    "from datetime import datetime\n",
    "\n",
    "@dataclass(frozen = True)\n",
    "class Livro:\n",
    "    titulo: str\n",
    "    autor: str\n",
    "    ano: int\n",
    "\n",
    "    def __post_init__(self):\n",
    "        if self.ano < 0:\n",
    "            raise ValueError('Ano não pode ser negativo!!')\n",
    "    \n",
    "    def calcula_idade(self):\n",
    "        return (datetime.today().year - self.ano)\n",
    "\n",
    "if __name__ == '__main__':\n",
    "    l1 = Livro('Cosmos','Carl Sagan', 1980)\n",
    "\n",
    "    print(l1)\n",
    "    print(f'O livro {l1.titulo} tem {l1.calcula_idade()} anos')\n"
   ]
  },
  {
   "cell_type": "markdown",
   "id": "f9739f49",
   "metadata": {},
   "source": [
    "### Enum"
   ]
  },
  {
   "cell_type": "code",
   "execution_count": null,
   "id": "f7cf9faf",
   "metadata": {},
   "outputs": [
    {
     "name": "stdout",
     "output_type": "stream",
     "text": [
      "DiaDaSemana.SEG <enum 'DiaDaSemana'>\n",
      "DiaDaSemana.TER <enum 'DiaDaSemana'>\n",
      "DiaDaSemana.QUA <enum 'DiaDaSemana'>\n",
      "DiaDaSemana.QUI <enum 'DiaDaSemana'>\n",
      "DiaDaSemana.SEX <enum 'DiaDaSemana'>\n",
      "DiaDaSemana.SAB <enum 'DiaDaSemana'>\n",
      "DiaDaSemana.DOM <enum 'DiaDaSemana'>\n",
      "SEG\n",
      "1\n"
     ]
    }
   ],
   "source": [
    "from enum import Enum, IntEnum, auto\n",
    "\n",
    "class DiaDaSemana(Enum):\n",
    "    SEG = auto() #1\n",
    "    TER = auto() #2\n",
    "    QUA = auto() #3\n",
    "    QUI = auto() #4\n",
    "    SEX = auto() #5\n",
    "    SAB = auto() #6\n",
    "    DOM = auto() #7\n",
    "\n",
    "class Status(IntEnum):\n",
    "    OK: 200\n",
    "    NOT_FOUND: 404\n",
    "\n",
    "if __name__ == '__main__':\n",
    "    for dia in DiaDaSemana:\n",
    "        print(dia, type(dia))\n",
    "    \n",
    "    print(DiaDaSemana.SEG.name)\n",
    "    print(DiaDaSemana.SEG.value)"
   ]
  },
  {
   "cell_type": "markdown",
   "id": "113318a3",
   "metadata": {},
   "source": [
    "### Descritores"
   ]
  },
  {
   "cell_type": "code",
   "execution_count": 29,
   "id": "9ada3625",
   "metadata": {},
   "outputs": [
    {
     "name": "stdout",
     "output_type": "stream",
     "text": [
      "{'_saldo': 200}\n",
      "_saldo\n",
      "{'__module__': '__main__', 'saldo': <__main__.Positivo object at 0x000001BE3AC26990>, '__init__': <function Conta.__init__ at 0x000001BE3A8F8680>, '__dict__': <attribute '__dict__' of 'Conta' objects>, '__weakref__': <attribute '__weakref__' of 'Conta' objects>, '__doc__': None}\n",
      "{'_saldo': 10}\n",
      "{}\n",
      "{'saldo': -10}\n"
     ]
    }
   ],
   "source": [
    "class Positivo:\n",
    "    def __set_name__(self, owner, name):\n",
    "        self.private_name = '_' + name\n",
    "\n",
    "    def __get__(self, instance, owner): # equivalente a x.y\n",
    "        if instance is None:\n",
    "            return self\n",
    "        return getattr(instance, self.private_name, None)\n",
    "    \n",
    "    def __set__(self, instance, value):\n",
    "        if value < 0:\n",
    "            raise ValueError('O número precisa ser positivo')\n",
    "        setattr(instance, self.private_name, value)\n",
    "        \n",
    "class Conta:\n",
    "    saldo = Positivo()\n",
    "    def __init__(self,saldo):\n",
    "        self.saldo = saldo\n",
    "\n",
    "if __name__ == '__main__':\n",
    "    c = Conta(200)\n",
    "    print(c.__dict__)\n",
    "    print(Conta.saldo.private_name)\n",
    "    c.saldo = 10\n",
    "    print(Conta.__dict__)\n",
    "    print(c.__dict__)\n",
    "\n",
    "\n",
    "    p = Positivo()\n",
    "    print(p.__dict__)\n",
    "    p.saldo = -10\n",
    "    print(p.__dict__)\n",
    "\n",
    "\n"
   ]
  },
  {
   "cell_type": "markdown",
   "id": "d9bf38b7",
   "metadata": {},
   "source": [
    "### Properties"
   ]
  },
  {
   "cell_type": "code",
   "execution_count": 32,
   "id": "150aa46c",
   "metadata": {},
   "outputs": [
    {
     "name": "stdout",
     "output_type": "stream",
     "text": [
      "Juliane\n",
      "28\n",
      "Ana Beatriz\n"
     ]
    }
   ],
   "source": [
    "from datetime import date\n",
    "\n",
    "class Pessoa:\n",
    "    def __init__(self,nome: str, data_nascimento: date):\n",
    "        self.__nome = nome\n",
    "        self.__data_nascimento = data_nascimento\n",
    "    \n",
    "    @property\n",
    "    def idade(self):\n",
    "        hoje = date.today()\n",
    "        return hoje.year - self.__data_nascimento.year - ((hoje.month, hoje.day) < (self.__data_nascimento.month, self.__data_nascimento.day))\n",
    "    \n",
    "    @property\n",
    "    def nome(self):\n",
    "        return self.__nome\n",
    "    \n",
    "    @nome.setter\n",
    "    def nome(self, novo_nome):\n",
    "        if len(novo_nome) > 2:\n",
    "            self.__nome = novo_nome\n",
    "        else:\n",
    "            raise ValueError('Nome Inválido')\n",
    "\n",
    "if __name__ == '__main__':\n",
    "    p = Pessoa('Juliane', date(1996,10,31))\n",
    "    print(p.nome)\n",
    "    print(p.idade)\n",
    "    p.nome = 'Ana Beatriz'\n",
    "    print(p.nome)"
   ]
  }
 ],
 "metadata": {
  "kernelspec": {
   "display_name": "Python 3",
   "language": "python",
   "name": "python3"
  },
  "language_info": {
   "codemirror_mode": {
    "name": "ipython",
    "version": 3
   },
   "file_extension": ".py",
   "mimetype": "text/x-python",
   "name": "python",
   "nbconvert_exporter": "python",
   "pygments_lexer": "ipython3",
   "version": "3.11.9"
  }
 },
 "nbformat": 4,
 "nbformat_minor": 5
}
