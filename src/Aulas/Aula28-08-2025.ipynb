{
 "cells": [
  {
   "cell_type": "markdown",
   "id": "71a358d3",
   "metadata": {},
   "source": [
    "### Padrão de Projeto\n",
    "\n",
    "1. Singleton"
   ]
  },
  {
   "cell_type": "code",
   "execution_count": null,
   "id": "af820f2c",
   "metadata": {},
   "outputs": [
    {
     "name": "stdout",
     "output_type": "stream",
     "text": [
      "False\n"
     ]
    }
   ],
   "source": [
    "# A classe não permite a criação de mais de um objeto\n",
    "class X:\n",
    "    _instancia = None\n",
    "    def __new__(cls, *args, **kwargs): # essa função roda no momento em que o objeto está sendo criado\n",
    "        if cls._instancia == None:\n",
    "            cls._instancia = super().__new__(cls)\n",
    "        return cls._instancia\n",
    "\n",
    "    def __init__(self, valor):\n",
    "        if not(hasattr(self, 'inicializado')):\n",
    "            self.valor = valor\n",
    "            self.inicializado = True\n",
    "\n",
    "\n",
    "if __name__ == '__main__':\n",
    "    x1 = X(1)\n",
    "\n",
    "    # hasattr - uma forma de checar se x1 tem um atributo específico\n",
    "    print(hasattr(x1, 'informacao')) # posso fazer x1.informação? \n"
   ]
  },
  {
   "cell_type": "code",
   "execution_count": 5,
   "id": "3c7c1b13",
   "metadata": {},
   "outputs": [
    {
     "name": "stdout",
     "output_type": "stream",
     "text": [
      "<__main__.ConfiguracaoSistema object at 0x000001C004469A50>\n",
      "<__main__.ConfiguracaoSistema object at 0x000001C004469A50>\n"
     ]
    }
   ],
   "source": [
    "from my_singleton import Singleton\n",
    "\n",
    "class ConfiguracaoSistema(Singleton):\n",
    "    def __init__(self, nome_usuario:str):\n",
    "        self.nome_usuario = nome_usuario\n",
    "\n",
    "if __name__ == '__main__':\n",
    "    config1 = ConfiguracaoSistema('teste')\n",
    "    config2 = ConfiguracaoSistema('outro')\n",
    "\n",
    "    print(config1)\n",
    "    print(config2)\n",
    "    "
   ]
  },
  {
   "cell_type": "markdown",
   "id": "5e16f0b1",
   "metadata": {},
   "source": [
    "2. Observer\n",
    "\n",
    "\"The observer method is a Behavioral design Pattern which allows you to define or create a subscription mechanism to send the notification to the multiple objects about any new event that happens to the object that they are observing. The subject is basically observed by multiple objects. The subject needs to be monitored and whenever there is a change in the subject, the observers are being notified about the change. This pattern defines one to Many dependencies between objects so that one object changes state, all of its dependents are notified and updated automatically.\""
   ]
  }
 ],
 "metadata": {
  "kernelspec": {
   "display_name": "Python 3",
   "language": "python",
   "name": "python3"
  },
  "language_info": {
   "codemirror_mode": {
    "name": "ipython",
    "version": 3
   },
   "file_extension": ".py",
   "mimetype": "text/x-python",
   "name": "python",
   "nbconvert_exporter": "python",
   "pygments_lexer": "ipython3",
   "version": "3.11.9"
  }
 },
 "nbformat": 4,
 "nbformat_minor": 5
}
