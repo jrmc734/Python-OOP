{
 "cells": [
  {
   "cell_type": "markdown",
   "id": "b8f8f680",
   "metadata": {},
   "source": [
    "## POO - Python (parte 2)"
   ]
  },
  {
   "cell_type": "code",
   "execution_count": null,
   "id": "c74733fe",
   "metadata": {},
   "outputs": [],
   "source": [
    "class Pessoa:\n",
    "    def __init__(self, nome, email):\n",
    "        self.nome = nome\n",
    "        self.email = email\n",
    "    \n",
    "    def __str__(self):\n",
    "        return f'{self.nome} ({self.email})'\n",
    "    \n",
    "    def primeiro_nome(self):\n",
    "        return self.nome.split(' ')[0]\n",
    "\n",
    "class Estudante(Pessoa):\n",
    "    def __init__(self, creditos):\n",
    "        self.creditos = creditos\n",
    "\n",
    "class Professor(Pessoa):\n",
    "    def __init__(self, sala, disciplinas = []):\n",
    "        self.sala = sala\n",
    "        self.disciplinas = disciplinas\n",
    "\n",
    "if __name__ == '__main__':\n",
    "\n",
    "\n",
    "\n"
   ]
  }
 ],
 "metadata": {
  "kernelspec": {
   "display_name": "Python 3",
   "language": "python",
   "name": "python3"
  },
  "language_info": {
   "name": "python",
   "version": "3.11.9"
  }
 },
 "nbformat": 4,
 "nbformat_minor": 5
}
