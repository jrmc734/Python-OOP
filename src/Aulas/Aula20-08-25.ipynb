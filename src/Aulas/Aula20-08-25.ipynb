{
 "cells": [
  {
   "cell_type": "markdown",
   "id": "3922e858",
   "metadata": {},
   "source": [
    "## **Módulos**"
   ]
  },
  {
   "cell_type": "markdown",
   "id": "e8611ed5",
   "metadata": {},
   "source": [
    "### Vamos importar um módulo próprio chamado **circulo**"
   ]
  },
  {
   "cell_type": "code",
   "execution_count": 1,
   "id": "2982366c",
   "metadata": {},
   "outputs": [],
   "source": [
    "import circulo as c"
   ]
  },
  {
   "cell_type": "code",
   "execution_count": 2,
   "id": "033a6dcc",
   "metadata": {},
   "outputs": [
    {
     "name": "stdout",
     "output_type": "stream",
     "text": [
      "pi definido no modulo 3.14159\n",
      "A area de um circulo de 5.0 eh: 78.540\n",
      "A circunferencia de um circulo de 5.0 eh: 31.416\n",
      "A superficie de uma esfera de 5.0 eh: 314.159\n",
      "O volume de uma esfera de 5.0 eh: 523.598\n"
     ]
    }
   ],
   "source": [
    "raio = 5.0\n",
    "\n",
    "print(f'pi definido no modulo {c.pi}')\n",
    "print(f'A area de um circulo de {raio} eh: {c.area(raio):.3f}')\n",
    "print(f'A circunferencia de um circulo de {raio} eh: {c.circunferencia(raio):.3f}')\n",
    "print(f'A superficie de uma esfera de {raio} eh: {c.superficie_esfera(raio):.3f}')\n",
    "print(f'O volume de uma esfera de {raio} eh: {c.volume_esfera(raio):.3f}')\n"
   ]
  },
  {
   "cell_type": "markdown",
   "id": "ff04473e",
   "metadata": {},
   "source": [
    "__name__ is a built-in variable which evaluates to the name of the current module.\n"
   ]
  },
  {
   "cell_type": "code",
   "execution_count": 3,
   "id": "29f2f64e",
   "metadata": {},
   "outputs": [
    {
     "name": "stdout",
     "output_type": "stream",
     "text": [
      "O __name__ desse programa eh __main__\n",
      "O __name__ do modulo com o alias c eh circulo\n"
     ]
    }
   ],
   "source": [
    "print(f'O __name__ desse programa eh {__name__}')\n",
    "print(f'O __name__ do modulo com o alias c eh {c.__name__}')"
   ]
  },
  {
   "cell_type": "markdown",
   "id": "773d6a1a",
   "metadata": {},
   "source": [
    "The dir() function returns all properties and methods of the specified object, without the values."
   ]
  },
  {
   "cell_type": "code",
   "execution_count": 4,
   "id": "d873c4d0",
   "metadata": {},
   "outputs": [
    {
     "name": "stdout",
     "output_type": "stream",
     "text": [
      "['__builtins__', '__cached__', '__doc__', '__file__', '__loader__', '__name__', '__package__', '__spec__', 'area', 'circunferencia', 'pi', 'superficie_esfera', 'volume_esfera']\n"
     ]
    }
   ],
   "source": [
    "print(dir(c))"
   ]
  },
  {
   "cell_type": "markdown",
   "id": "a388747d",
   "metadata": {},
   "source": [
    "### Explorando o modulo **calendar**"
   ]
  },
  {
   "cell_type": "code",
   "execution_count": 5,
   "id": "cd338f35",
   "metadata": {},
   "outputs": [],
   "source": [
    "import calendar as cal"
   ]
  },
  {
   "cell_type": "code",
   "execution_count": 6,
   "id": "c11c5c98",
   "metadata": {},
   "outputs": [
    {
     "name": "stdout",
     "output_type": "stream",
     "text": [
      "    October 2025\n",
      "Mo Tu We Th Fr Sa Su\n",
      "       1  2  3  4  5\n",
      " 6  7  8  9 10 11 12\n",
      "13 14 15 16 17 18 19\n",
      "20 21 22 23 24 25 26\n",
      "27 28 29 30 31\n",
      "\n",
      "5\n",
      "Saturday\n"
     ]
    }
   ],
   "source": [
    "calendario = cal.TextCalendar()\n",
    "print(calendario.formatmonth(2025,10))\n",
    "print(cal.weekday ( 2038, 12, 25 ))\n",
    "print(cal.day_name[cal.weekday ( 2038, 12, 25 )])"
   ]
  },
  {
   "cell_type": "markdown",
   "id": "b003266c",
   "metadata": {},
   "source": [
    "### Explorando o módulo **collections**"
   ]
  },
  {
   "cell_type": "code",
   "execution_count": 7,
   "id": "2bb6456e",
   "metadata": {},
   "outputs": [],
   "source": [
    "import collections"
   ]
  },
  {
   "cell_type": "code",
   "execution_count": 8,
   "id": "f5e41f4a",
   "metadata": {},
   "outputs": [
    {
     "name": "stdout",
     "output_type": "stream",
     "text": [
      "<class 'collections.Counter'>\n"
     ]
    }
   ],
   "source": [
    "L = [2,2,2,2,5,5,5,5,7,7,6,6,4,4,3,2,2,2]\n",
    "counter = collections.Counter(L) \n",
    "print(type(counter))"
   ]
  },
  {
   "cell_type": "markdown",
   "id": "4a6a5a79",
   "metadata": {},
   "source": [
    "### Explorando o módulo **time**"
   ]
  },
  {
   "cell_type": "code",
   "execution_count": 9,
   "id": "38520d25",
   "metadata": {},
   "outputs": [],
   "source": [
    "import time"
   ]
  },
  {
   "cell_type": "code",
   "execution_count": 10,
   "id": "3d921e72",
   "metadata": {},
   "outputs": [
    {
     "name": "stdout",
     "output_type": "stream",
     "text": [
      "Ano: 2025 Mês: 8 Dia: 20\n"
     ]
    }
   ],
   "source": [
    "t = time.localtime()\n",
    "print('Ano:', t.tm_year, 'Mês:', t.tm_mon, 'Dia:', t.tm_mday)"
   ]
  },
  {
   "cell_type": "code",
   "execution_count": 11,
   "id": "5d2cf801",
   "metadata": {},
   "outputs": [
    {
     "name": "stdout",
     "output_type": "stream",
     "text": [
      "Vou fazer algo já já, só descansar uns segundinhos aqui...\n",
      "Pronto, voltei!!\n"
     ]
    }
   ],
   "source": [
    "print('Vou fazer algo já já, só descansar uns segundinhos aqui...')\n",
    "time.sleep(5)\n",
    "print('Pronto, voltei!!')"
   ]
  },
  {
   "cell_type": "code",
   "execution_count": 13,
   "id": "89d2bc20",
   "metadata": {},
   "outputs": [
    {
     "name": "stdout",
     "output_type": "stream",
     "text": [
      "Tempo decorrido: 12.711052509000183\n"
     ]
    }
   ],
   "source": [
    "inicio = time.perf_counter()\n",
    "soma = 0\n",
    "for i in range(100000000):\n",
    "    soma = soma + i\n",
    "fim = time.perf_counter()\n",
    "\n",
    "print(f'Tempo decorrido: {fim-inicio}')"
   ]
  },
  {
   "cell_type": "markdown",
   "id": "54b73dbb",
   "metadata": {},
   "source": [
    "### Explorando o módulo **datetime**"
   ]
  },
  {
   "cell_type": "code",
   "execution_count": null,
   "id": "7447d77e",
   "metadata": {},
   "outputs": [],
   "source": [
    "from datetime import datetime, timedelta"
   ]
  },
  {
   "cell_type": "code",
   "execution_count": 3,
   "id": "89120fc0",
   "metadata": {},
   "outputs": [
    {
     "name": "stdout",
     "output_type": "stream",
     "text": [
      "2025-08-20 15:25:53.449754\n"
     ]
    }
   ],
   "source": [
    "agora = datetime.now()\n",
    "print(agora)"
   ]
  },
  {
   "cell_type": "code",
   "execution_count": null,
   "id": "4b10095a",
   "metadata": {},
   "outputs": [
    {
     "name": "stdout",
     "output_type": "stream",
     "text": [
      "2015-12-24 21:30:00\n",
      "<class 'datetime.datetime'>\n",
      "2015\n",
      "ainda não chegou a hora de cantar parabéns\n",
      "Faltam 42 dias para o aniversário de Tamyres.\n",
      "---\n",
      "2025-10-01 23:37:50 <class 'datetime.datetime'>\n",
      "12 days, 2:00:37 <class 'datetime.timedelta'>\n",
      "O fim das férias será em 14/10/2025 01:38:27\n",
      "14/10/2025 01:38:27 <class 'str'>\n",
      "2025-10-14 01:38:27 <class 'datetime.datetime'>\n"
     ]
    }
   ],
   "source": [
    "\n",
    "vespera_natal_2015 = datetime(2015,12,24,21,30,00)\n",
    "print(vespera_natal_2015)\n",
    "print(type(vespera_natal_2015))\n",
    "print(vespera_natal_2015.year)\n",
    "\n",
    "aniversario_tamyres = datetime(2025,10,1,23,37,50)\n",
    "if agora < aniversario_tamyres: \n",
    "    print('ainda não chegou a hora de cantar parabéns')\n",
    "else:\n",
    "    print('o bolo já era')\n",
    "\n",
    "diferenca = aniversario_tamyres - agora\n",
    "print(f'Faltam {diferenca.days} dias para o aniversário de Tamyres.')\n",
    "\n",
    "\n",
    "print('---')\n",
    "inicio = aniversario_tamyres\n",
    "print(inicio, type(inicio))\n",
    "doze_dias_depois = timedelta(days=12,seconds=37, hours=2)\n",
    "print(doze_dias_depois, type(doze_dias_depois))\n",
    "fim_ferias = inicio + doze_dias_depois\n",
    "print(f'O fim das férias será em {fim_ferias.strftime('%d/%m/%Y %H:%M:%S')}')\n",
    "str_fim_ferias = '14/10/2025 01:38:27'\n",
    "print(str_fim_ferias, type(str_fim_ferias))\n",
    "data_fim_ferias = datetime.strptime(str_fim_ferias,'%d/%m/%Y %H:%M:%S')\n",
    "print(data_fim_ferias, type(data_fim_ferias))"
   ]
  },
  {
   "cell_type": "code",
   "execution_count": 8,
   "id": "5fdc4213",
   "metadata": {},
   "outputs": [
    {
     "name": "stdout",
     "output_type": "stream",
     "text": [
      "[[0, 0, 0, 1, 2, 3, 4], [5, 6, 7, 8, 9, 10, 11], [12, 13, 14, 15, 16, 17, 18], [19, 20, 21, 22, 23, 24, 25], [26, 27, 28, 29, 30, 31, 0]]\n"
     ]
    }
   ],
   "source": [
    "import calendar as cal \n",
    "from datetime import date\n",
    "\n",
    "print(cal.monthcalendar(2025,5))\n",
    "# as listas colocam os dias nessa ordem [seg, ter, qua, qui, sex, sab, dom]"
   ]
  },
  {
   "cell_type": "code",
   "execution_count": null,
   "id": "d8df23ff",
   "metadata": {},
   "outputs": [],
   "source": [
    "def enesimo_dia_semana_mes(ano, mes, dia_semana, n):\n",
    "    semanas_mes = cal.monthcalendar(ano, mes)\n",
    "    contador = 0\n",
    "\n",
    "    for semana in semanas_mes:\n",
    "        dia_mes = semana[dia_semana]\n",
    "        if dia_mes != 0:\n",
    "            contador = contador + 1\n",
    "            if contador == n:\n",
    "                return dia_mes\n",
    "    \n",
    "    raise ValueError(f'A {n}-esima ocorrência no mes {mes} não existe')"
   ]
  },
  {
   "cell_type": "code",
   "execution_count": 10,
   "id": "9633f440",
   "metadata": {},
   "outputs": [],
   "source": [
    "def dia_das_maes(ano):\n",
    "    dia = enesimo_dia_semana_mes(ano, 5, cal.SUNDAY, 2)\n",
    "    return date(ano, 5, dia)"
   ]
  },
  {
   "cell_type": "code",
   "execution_count": 11,
   "id": "433780bf",
   "metadata": {},
   "outputs": [],
   "source": [
    "def dia_dos_pais(ano):\n",
    "    dia = enesimo_dia_semana_mes(ano, 8, cal.SUNDAY, 2)\n",
    "    return date(ano, 8, dia)"
   ]
  },
  {
   "cell_type": "code",
   "execution_count": 12,
   "id": "e5e4012e",
   "metadata": {},
   "outputs": [
    {
     "name": "stdout",
     "output_type": "stream",
     "text": [
      "12\n",
      "2025-05-11\n",
      "2025-08-10\n"
     ]
    }
   ],
   "source": [
    "print(enesimo_dia_semana_mes(2025, 8, 1, 2))\n",
    "print(dia_das_maes(2025))\n",
    "print(dia_dos_pais(2025))"
   ]
  },
  {
   "cell_type": "markdown",
   "id": "018b8eff",
   "metadata": {},
   "source": [
    "### Explorando o módulo **random**"
   ]
  },
  {
   "cell_type": "code",
   "execution_count": 13,
   "id": "67d1516e",
   "metadata": {},
   "outputs": [],
   "source": [
    "import random"
   ]
  },
  {
   "cell_type": "code",
   "execution_count": 14,
   "id": "4f4613ce",
   "metadata": {},
   "outputs": [
    {
     "name": "stdout",
     "output_type": "stream",
     "text": [
      "0.3406339804230316\n",
      "40\n"
     ]
    }
   ],
   "source": [
    "print(random.random())\n",
    "print(random.randint(1,100))"
   ]
  },
  {
   "cell_type": "markdown",
   "id": "12dcf8a3",
   "metadata": {},
   "source": [
    "### Explorando o módulo **csv**"
   ]
  },
  {
   "cell_type": "code",
   "execution_count": 1,
   "id": "15241ac2",
   "metadata": {},
   "outputs": [],
   "source": [
    "import csv"
   ]
  },
  {
   "cell_type": "code",
   "execution_count": 2,
   "id": "57b01604",
   "metadata": {},
   "outputs": [
    {
     "name": "stdout",
     "output_type": "stream",
     "text": [
      "{'JoÃ£o Silva': 'Maria Oliveira', '8.5': '7.5', '7.0': '6.5', '9.0': '6.5', '6.5': '7.0', '8.0': '8.0', '7.5': '9.0', '9.5': '7.0'}\n",
      "{'JoÃ£o Silva': 'Pedro Santos', '8.5': '8.5', '7.0': '9.0', '9.0': '7.5', '6.5': '8.0', '8.0': '8.5', '7.5': '8.0', '9.5': '7.0'}\n",
      "{'JoÃ£o Silva': 'Ana Costa', '8.5': '6.5', '7.0': '7.5', '9.0': '8.0', '6.5': '7.5', '8.0': '7.0', '7.5': '7.0', '9.5': '8.5'}\n",
      "{'JoÃ£o Silva': 'Lucas Pereira', '8.5': '9.0', '7.0': '8.5', '9.0': '9.0', '6.5': '8.5', '8.0': '8.0', '7.5': '8.0', '9.5': '9.5'}\n",
      "{'JoÃ£o Silva': 'Juliana Rocha', '8.5': '9.0', '7.0': '9.5', '9.0': '9.0', '6.5': '8.0', '8.0': '8.5', '7.5': '8.5', '9.5': '9.0'}\n",
      "{'JoÃ£o Silva': 'Rafael Lima', '8.5': '7.5', '7.0': '7.0', '9.0': '7.5', '6.5': '8.0', '8.0': '6.5', '7.5': '8.5', '9.5': '7.5'}\n",
      "{'JoÃ£o Silva': 'Camila Fernandes', '8.5': '9.5', '7.0': '8.0', '9.0': '8.5', '6.5': '9.5', '8.0': '9.0', '7.5': '9.0', '9.5': '8.5'}\n",
      "{'JoÃ£o Silva': 'Bruno Almeida', '8.5': '7.0', '7.0': '6.5', '9.0': '6.0', '6.5': '7.5', '8.0': '7.0', '7.5': '7.0', '9.5': '6.5'}\n",
      "{'JoÃ£o Silva': 'Fernanda Ribeiro', '8.5': '9.5', '7.0': '9.0', '9.0': '9.5', '6.5': '8.0', '8.0': '8.0', '7.5': '8.5', '9.5': '9.5'}\n",
      "{'JoÃ£o Silva': 'Mateus Carvalho', '8.5': '8.0', '7.0': '7.5', '9.0': '7.0', '6.5': '7.5', '8.0': '7.0', '7.5': '7.5', '9.5': '8.5'}\n",
      "{'JoÃ£o Silva': 'PatrÃ\\xadcia Gomes', '8.5': '9.5', '7.0': '8.0', '9.0': '8.0', '6.5': '9.5', '8.0': '9.0', '7.5': '9.0', '9.5': '8.5'}\n",
      "{'JoÃ£o Silva': 'AndrÃ© Martins', '8.5': '6.0', '7.0': '7.0', '9.0': '7.0', '6.5': '6.5', '8.0': '6.5', '7.5': '7.5', '9.5': '7.0'}\n",
      "{'JoÃ£o Silva': 'Larissa Barros', '8.5': '9.5', '7.0': '9.0', '9.0': '9.0', '6.5': '9.5', '8.0': '8.5', '7.5': '9.0', '9.5': '9.5'}\n",
      "{'JoÃ£o Silva': 'Carlos Nogueira', '8.5': '8.5', '7.0': '8.0', '9.0': '8.5', '6.5': '8.0', '8.0': '7.5', '7.5': '7.5', '9.5': '8.0'}\n",
      "{'JoÃ£o Silva': 'Renata Teixeira', '8.5': '7.5', '7.0': '8.0', '9.0': '7.0', '6.5': '7.5', '8.0': '7.0', '7.5': '7.5', '9.5': '8.5'}\n",
      "{'JoÃ£o Silva': 'Diego Castro', '8.5': '7.0', '7.0': '6.5', '9.0': '6.0', '6.5': '7.5', '8.0': '7.0', '7.5': '7.0', '9.5': '6.5'}\n",
      "{'JoÃ£o Silva': 'Isabela Mendes', '8.5': '9.5', '7.0': '9.0', '9.0': '8.5', '6.5': '9.5', '8.0': '9.5', '7.5': '9.5', '9.5': '9.0'}\n",
      "{'JoÃ£o Silva': 'Felipe AraÃºjo', '8.5': '8.5', '7.0': '8.0', '9.0': '8.0', '6.5': '8.5', '8.0': '7.5', '7.5': '8.0', '9.5': '8.5'}\n",
      "{'JoÃ£o Silva': 'Sofia Correia', '8.5': '7.5', '7.0': '8.0', '9.0': '8.0', '6.5': '7.5', '8.0': '7.5', '7.5': '7.5', '9.5': '7.0'}\n",
      "{'JoÃ£o Silva': 'Gustavo Freitas', '8.5': '9.5', '7.0': '9.0', '9.0': '9.5', '6.5': '9.0', '8.0': '9.5', '7.5': '9.0', '9.5': '8.5'}\n",
      "{'JoÃ£o Silva': 'Beatriz Cunha', '8.5': '7.0', '7.0': '6.5', '9.0': '6.5', '6.5': '7.0', '8.0': '7.0', '7.5': '7.0', '9.5': '6.5'}\n",
      "{'JoÃ£o Silva': 'Henrique Duarte', '8.5': '8.5', '7.0': '8.0', '9.0': '8.0', '6.5': '8.5', '8.0': '8.5', '7.5': '8.5', '9.5': '8.0'}\n",
      "{'JoÃ£o Silva': 'Carolina Batista', '8.5': '8.0', '7.0': '7.5', '9.0': '7.5', '6.5': '8.0', '8.0': '8.0', '7.5': '8.0', '9.5': '7.5'}\n",
      "{'JoÃ£o Silva': 'Thiago Moreira', '8.5': '9.0', '7.0': '9.5', '9.0': '9.5', '6.5': '9.0', '8.0': '9.0', '7.5': '9.0', '9.5': '9.5'}\n",
      "{'JoÃ£o Silva': 'Amanda Lopes', '8.5': '8.5', '7.0': '8.0', '9.0': '8.0', '6.5': '8.5', '8.0': '8.5', '7.5': '8.5', '9.5': '8.0'}\n",
      "{'JoÃ£o Silva': 'Eduardo Barbosa', '8.5': '6.5', '7.0': '7.0', '9.0': '7.0', '6.5': '6.5', '8.0': '6.5', '7.5': '6.5', '9.5': '7.0'}\n",
      "{'JoÃ£o Silva': 'NatÃ¡lia Moura', '8.5': '9.0', '7.0': '8.5', '9.0': '8.5', '6.5': '9.0', '8.0': '9.0', '7.5': '9.0', '9.5': '8.5'}\n",
      "{'JoÃ£o Silva': 'Rodrigo Farias', '8.5': '7.0', '7.0': '6.5', '9.0': '6.5', '6.5': '7.0', '8.0': '7.0', '7.5': '7.0', '9.5': '6.5'}\n",
      "{'JoÃ£o Silva': 'Luana Carvalho', '8.5': '9.5', '7.0': '9.0', '9.0': '9.0', '6.5': '9.5', '8.0': '9.5', '7.5': '9.5', '9.5': '9.0'}\n"
     ]
    }
   ],
   "source": [
    "caminho = '../files/04-notas.csv'\n",
    "\n",
    "with open(caminho) as arq:\n",
    "    reader = csv.DictReader(arq)\n",
    "    #reader = csv.reader(arq)\n",
    "    for linha in reader:\n",
    "        print(linha)"
   ]
  },
  {
   "cell_type": "code",
   "execution_count": 3,
   "id": "a7043a29",
   "metadata": {},
   "outputs": [
    {
     "name": "stdout",
     "output_type": "stream",
     "text": [
      "['PROD0001 ', ' Notebook Dell Inspiron ', ' 2979.27 ', ' 67']\n",
      "['PROD0002 ', ' Smartphone Samsung Galaxy A54 ', ' 680.53 ', ' 18']\n",
      "['PROD0003 ', ' Fone de Ouvido Bluetooth JBL ', ' 2907.31 ', ' 42']\n",
      "['PROD0004 ', ' Mouse Logitech Wireless ', ' 694.74 ', ' 25']\n",
      "['PROD0005 ', ' Teclado MecÃ¢nico Redragon ', ' 3485.93 ', ' 25']\n",
      "['PROD0006 ', ' Monitor LG 24 Polegadas ', ' 1776.11 ', ' 31']\n",
      "['PROD0007 ', ' Cadeira Gamer DXRacer ', ' 3480.21 ', ' 36']\n",
      "['PROD0008 ', ' Mesa de EscritÃ³rio MDF ', ' 3425.84 ', ' 51']\n",
      "['PROD0009 ', ' Impressora HP LaserJet ', ' 1906.92 ', ' 5']\n",
      "['PROD0010 ', ' HD Externo Seagate 1TB ', ' 1113.83 ', ' 80']\n",
      "['PROD0011 ', ' SSD Kingston 480GB ', ' 1494.72 ', ' 52']\n",
      "['PROD0012 ', ' Placa de VÃ\\xaddeo NVIDIA RTX 4060 ', ' 2804.69 ', ' 40']\n",
      "['PROD0013 ', ' MemÃ³ria RAM Corsair 16GB ', ' 2804.87 ', ' 38']\n",
      "['PROD0014 ', ' Cabo HDMI 2.0 2m ', ' 390.04 ', ' 39']\n",
      "['PROD0015 ', ' Carregador PortÃ¡til 10000mAh ', ' 1058.66 ', ' 61']\n",
      "['PROD0016 ', ' Smartwatch Amazfit Bip ', ' 752.49 ', ' 19']\n",
      "['PROD0017 ', ' Caixa de Som Alexa Echo Dot ', ' 3039.57 ', ' 48']\n",
      "['PROD0018 ', ' Webcam Logitech C920 ', ' 886.81 ', ' 44']\n"
     ]
    }
   ],
   "source": [
    "caminho = '../files/05-produtos.csv'\n",
    "\n",
    "with open(caminho) as arq:\n",
    "    reader = csv.reader(arq, delimiter='|')\n",
    "    for linha in reader:\n",
    "        print(linha)\n"
   ]
  },
  {
   "cell_type": "code",
   "execution_count": 10,
   "id": "df3a7a6b",
   "metadata": {},
   "outputs": [],
   "source": [
    "# ESCRITA\n",
    "filmes_lista = [\n",
    "    ['Título', 'Ano'],\n",
    "    ['A Chegada', 2016],\n",
    "    ['Jojo Rabbit', 2019],\n",
    "    ['Como treinar seu dragão', 2025],\n",
    "    ['Interestrelar', 2014]\n",
    "]\n",
    "\n",
    "filmes_dic = [\n",
    "    {'Titulo': 'A Chegada', 'Ano': 2016},\n",
    "    {'Titulo': 'Jojo Rabbit', 'Ano': 2019},\n",
    "    {'Titulo': 'Como treinar seu dragao', 'Ano': 2025},\n",
    "    {'Titulo': 'Interestrelar', 'Ano': 2014}\n",
    "]"
   ]
  },
  {
   "cell_type": "code",
   "execution_count": 5,
   "id": "3e221fae",
   "metadata": {},
   "outputs": [],
   "source": [
    "with open('../files/filmes.csv', 'w', newline = '', encoding = 'utf-8') as arq:\n",
    "    writer = csv.writer(arq)\n",
    "    writer.writerows(filmes_lista)"
   ]
  },
  {
   "cell_type": "code",
   "execution_count": 11,
   "id": "04b71b93",
   "metadata": {},
   "outputs": [],
   "source": [
    "with open('../files/filmes_dict.csv', 'w', newline = '', encoding = 'utf-8') as arq:\n",
    "    campos = ['Titulo', 'Ano']\n",
    "    writer = csv.DictWriter(arq, fieldnames = campos)\n",
    "    writer.writeheader()\n",
    "    writer.writerows(filmes_dic)"
   ]
  },
  {
   "cell_type": "code",
   "execution_count": 12,
   "id": "d0888638",
   "metadata": {},
   "outputs": [
    {
     "name": "stdout",
     "output_type": "stream",
     "text": [
      "{'Titulo': 'A Chegada', 'Ano': '2016'}\n",
      "{'Titulo': 'Jojo Rabbit', 'Ano': '2019'}\n",
      "{'Titulo': 'Como treinar seu dragao', 'Ano': '2025'}\n",
      "{'Titulo': 'Interestrelar', 'Ano': '2014'}\n"
     ]
    }
   ],
   "source": [
    "caminho = '../files/filmes_dict.csv'\n",
    "\n",
    "with open(caminho) as arq:\n",
    "    reader = csv.DictReader(arq)\n",
    "    for linha in reader:\n",
    "        print(linha)"
   ]
  },
  {
   "cell_type": "markdown",
   "id": "fc722d14",
   "metadata": {},
   "source": [
    "### Explorando o módulo **json**"
   ]
  },
  {
   "cell_type": "code",
   "execution_count": 13,
   "id": "c134c77f",
   "metadata": {},
   "outputs": [],
   "source": [
    "import json"
   ]
  },
  {
   "cell_type": "markdown",
   "id": "c28d909b",
   "metadata": {},
   "source": [
    "Método **load**: function in Python is used to read a JSON file and convert it into a corresponding Python object, such as a dictionary or a list."
   ]
  },
  {
   "cell_type": "code",
   "execution_count": 14,
   "id": "e5a5034f",
   "metadata": {},
   "outputs": [
    {
     "name": "stdout",
     "output_type": "stream",
     "text": [
      "{'pessoas': [{'nome': 'Leopoldo Teixeira', 'cidade': 'Recife', 'profissao': 'Professor'}, {'nome': 'Outra Pessoa', 'cidade': 'Olinda', 'profissao': 'Advogado'}]} <class 'dict'>\n"
     ]
    }
   ],
   "source": [
    "with open('../files/11-exemplo.json') as arq:\n",
    "    informacao = json.load(arq)\n",
    "    print(informacao, type(informacao))    "
   ]
  },
  {
   "cell_type": "code",
   "execution_count": 15,
   "id": "b0396e04",
   "metadata": {},
   "outputs": [],
   "source": [
    "filmes = {'filmes' :\n",
    "          [\n",
    "            {'Titulo': 'Jojo Rabbit', 'Ano': 2019},\n",
    "            {'Titulo': 'A Chegada', 'Ano': 2016},\n",
    "            {'Ano': 2025, 'Titulo': 'Como treinar seu dragao'},\n",
    "            {'Titulo': 'Interestelar', 'Ano': 2014}\n",
    "          ]\n",
    "}"
   ]
  },
  {
   "cell_type": "markdown",
   "id": "a631ad45",
   "metadata": {},
   "source": [
    "Método **dumps**: Transforma um objeto python em uma string no formato JSON."
   ]
  },
  {
   "cell_type": "code",
   "execution_count": 20,
   "id": "4dd79b97",
   "metadata": {},
   "outputs": [
    {
     "name": "stdout",
     "output_type": "stream",
     "text": [
      "{\n",
      "  \"filmes\": [\n",
      "    {\n",
      "      \"Titulo\": \"Jojo Rabbit\",\n",
      "      \"Ano\": 2019\n",
      "    },\n",
      "    {\n",
      "      \"Titulo\": \"A Chegada\",\n",
      "      \"Ano\": 2016\n",
      "    },\n",
      "    {\n",
      "      \"Ano\": 2025,\n",
      "      \"Titulo\": \"Como treinar seu dragao\"\n",
      "    },\n",
      "    {\n",
      "      \"Titulo\": \"Interestelar\",\n",
      "      \"Ano\": 2014\n",
      "    }\n",
      "  ]\n",
      "} \n",
      " <class 'str'>\n"
     ]
    }
   ],
   "source": [
    "str_json = json.dumps(filmes, indent = 2)\n",
    "print(str_json,'\\n', type(str_json))"
   ]
  },
  {
   "cell_type": "code",
   "execution_count": null,
   "id": "b59ad902",
   "metadata": {},
   "outputs": [],
   "source": [
    "# print(json.dumps({\"name\": \"John\", \"age\": 30}))\n",
    "# print(json.dumps([\"apple\", \"bananas\"]))\n",
    "# print(json.dumps((\"apple\", \"bananas\")))\n",
    "# print(json.dumps(\"hello\"))\n",
    "# print(json.dumps(42))\n",
    "# print(json.dumps(31.76))\n",
    "# print(json.dumps(True))\n",
    "# print(json.dumps(False))\n",
    "# print(json.dumps(None))\n",
    "\n",
    "a = json.dumps(True)\n",
    "print(a,type(a))"
   ]
  },
  {
   "cell_type": "markdown",
   "id": "55b4f62e",
   "metadata": {},
   "source": [
    "Método **dump**: transforma um objeto python em um arquivo no formato JSON."
   ]
  },
  {
   "cell_type": "code",
   "execution_count": 19,
   "id": "358ab0da",
   "metadata": {},
   "outputs": [],
   "source": [
    "with open('../files/11-filmes.json', 'w', encoding='utf-8') as arq:\n",
    "    json.dump(filmes, arq, indent = 2)"
   ]
  },
  {
   "cell_type": "markdown",
   "id": "30c835f1",
   "metadata": {},
   "source": [
    "### Explorando o módulo **sys**"
   ]
  },
  {
   "cell_type": "code",
   "execution_count": 2,
   "id": "6eb0e6cf",
   "metadata": {},
   "outputs": [],
   "source": [
    "import sys"
   ]
  },
  {
   "cell_type": "code",
   "execution_count": 4,
   "id": "ba13751b",
   "metadata": {},
   "outputs": [
    {
     "name": "stdout",
     "output_type": "stream",
     "text": [
      "Versão:  3.11.9 (tags/v3.11.9:de54cf5, Apr  2 2024, 10:12:12) [MSC v.1938 64 bit (AMD64)]\n",
      "Plataforma:  win32\n",
      "Exec.:  c:\\Users\\jrmc\\AppData\\Local\\pypoetry\\Cache\\virtualenvs\\python-oop-0BnD35V_-py3.11\\Scripts\\python.exe\n",
      "Caminhos de import:  ['C:\\\\Users\\\\jrmc\\\\.pyenv\\\\pyenv-win\\\\versions\\\\3.11.9\\\\python311.zip', 'C:\\\\Users\\\\jrmc\\\\.pyenv\\\\pyenv-win\\\\versions\\\\3.11.9\\\\DLLs', 'C:\\\\Users\\\\jrmc\\\\.pyenv\\\\pyenv-win\\\\versions\\\\3.11.9\\\\Lib', 'C:\\\\Users\\\\jrmc\\\\.pyenv\\\\pyenv-win\\\\versions\\\\3.11.9', 'c:\\\\Users\\\\jrmc\\\\AppData\\\\Local\\\\pypoetry\\\\Cache\\\\virtualenvs\\\\python-oop-0BnD35V_-py3.11', '', 'c:\\\\Users\\\\jrmc\\\\AppData\\\\Local\\\\pypoetry\\\\Cache\\\\virtualenvs\\\\python-oop-0BnD35V_-py3.11\\\\Lib\\\\site-packages', 'c:\\\\Users\\\\jrmc\\\\AppData\\\\Local\\\\pypoetry\\\\Cache\\\\virtualenvs\\\\python-oop-0BnD35V_-py3.11\\\\Lib\\\\site-packages\\\\win32', 'c:\\\\Users\\\\jrmc\\\\AppData\\\\Local\\\\pypoetry\\\\Cache\\\\virtualenvs\\\\python-oop-0BnD35V_-py3.11\\\\Lib\\\\site-packages\\\\win32\\\\lib', 'c:\\\\Users\\\\jrmc\\\\AppData\\\\Local\\\\pypoetry\\\\Cache\\\\virtualenvs\\\\python-oop-0BnD35V_-py3.11\\\\Lib\\\\site-packages\\\\Pythonwin']\n"
     ]
    }
   ],
   "source": [
    "print('Versão: ', sys.version)\n",
    "print('Plataforma: ', sys.platform)\n",
    "print('Exec.: ', sys.executable)\n",
    "print('Caminhos de import: ', sys.path)"
   ]
  },
  {
   "cell_type": "code",
   "execution_count": 5,
   "id": "0ff37411",
   "metadata": {},
   "outputs": [
    {
     "name": "stdout",
     "output_type": "stream",
     "text": [
      " c:\\Users\\jrmc\\AppData\\Local\\pypoetry\\Cache\\virtualenvs\\python-oop-0BnD35V_-py3.11\\Lib\\site-packages\\ipykernel_launcher.py\n",
      "Argumentos adicionais:  ['--f=c:\\\\Users\\\\jrmc\\\\AppData\\\\Roaming\\\\jupyter\\\\runtime\\\\kernel-v3c778eee04ee53016a282442ac59a836bce19aa62.json']\n"
     ]
    }
   ],
   "source": [
    "print('',sys.argv[0])\n",
    "if len(sys.argv) > 1:\n",
    "    print('Argumentos adicionais: ',sys.argv[1:])"
   ]
  },
  {
   "cell_type": "markdown",
   "id": "4b3782da",
   "metadata": {},
   "source": [
    "### Exercício"
   ]
  },
  {
   "cell_type": "code",
   "execution_count": null,
   "id": "21b0f7ab",
   "metadata": {},
   "outputs": [],
   "source": [
    "cal_elfos = {}\n",
    "calorias = 0\n",
    "qtd_elfos = 1\n",
    "\n",
    "caminho = '../files/calorias.txt'\n",
    "with open(caminho) as arq:\n",
    "    conteudo = arq.readlines()\n",
    "\n",
    "for linha in conteudo:\n",
    "    if linha == '\\n':\n",
    "        cal_elfos[calorias] = qtd_elfos\n",
    "        qtd_elfos = qtd_elfos + 1\n",
    "        calorias = 0\n",
    "    else:\n",
    "        calorias = calorias + int(linha)\n",
    "\n",
    "calorias_ordenada = sorted(list(cal_elfos.keys()), reverse=True)\n"
   ]
  },
  {
   "cell_type": "code",
   "execution_count": 60,
   "id": "be107b53",
   "metadata": {},
   "outputs": [
    {
     "name": "stdout",
     "output_type": "stream",
     "text": [
      "O 36º Elfo leva 73211 calorias\n"
     ]
    }
   ],
   "source": [
    "# Primeira parte\n",
    "print(f'O {cal_elfos[calorias_ordenada[0]]}º Elfo leva {calorias_ordenada[0]} calorias')"
   ]
  },
  {
   "cell_type": "code",
   "execution_count": 62,
   "id": "e651b233",
   "metadata": {},
   "outputs": [
    {
     "name": "stdout",
     "output_type": "stream",
     "text": [
      "O 36º elfo - 73211 calorias\n",
      "O 65º elfo - 71575 calorias\n",
      "O 165º elfo - 69172 calorias\n",
      "Total de calorias: 213958\n"
     ]
    }
   ],
   "source": [
    "# Segunda parte\n",
    "print(f'O {cal_elfos[calorias_ordenada[0]]}º elfo - {calorias_ordenada[0]} calorias')\n",
    "print(f'O {cal_elfos[calorias_ordenada[1]]}º elfo - {calorias_ordenada[1]} calorias')\n",
    "print(f'O {cal_elfos[calorias_ordenada[2]]}º elfo - {calorias_ordenada[2]} calorias')\n",
    "print(f'Total de calorias: {calorias_ordenada[0] + calorias_ordenada[1] + calorias_ordenada[2]}')\n"
   ]
  }
 ],
 "metadata": {
  "kernelspec": {
   "display_name": "Python 3",
   "language": "python",
   "name": "python3"
  },
  "language_info": {
   "codemirror_mode": {
    "name": "ipython",
    "version": 3
   },
   "file_extension": ".py",
   "mimetype": "text/x-python",
   "name": "python",
   "nbconvert_exporter": "python",
   "pygments_lexer": "ipython3",
   "version": "3.11.9"
  }
 },
 "nbformat": 4,
 "nbformat_minor": 5
}
