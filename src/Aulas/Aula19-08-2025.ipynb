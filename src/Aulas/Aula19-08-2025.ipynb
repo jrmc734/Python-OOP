{
 "cells": [
  {
   "cell_type": "markdown",
   "id": "b0ed4295",
   "metadata": {},
   "source": [
    "## **Arquivos** (continuação)\n",
    "\n",
    "Escrita em arquivos."
   ]
  },
  {
   "cell_type": "code",
   "execution_count": 2,
   "id": "ee65fca1",
   "metadata": {},
   "outputs": [],
   "source": [
    "# Abrir um arquivo no modo 'w' (write) cria um arquivo, caso não exista;\n",
    "# porém, apaga o conteúdo do arquivo se ele existir.\n",
    "\n",
    "with open('../files/01-teste.txt', 'w') as arq:\n",
    "    arq.write('Olá, pessoal.\\n')\n",
    "    arq.write('Essa linha vai ficar embaixo.\\n')\n",
    "\n",
    "# Para não apagar o conteúdo do arquivo, podemos usar o modo 'a'\n",
    "# a - append (escreve ao final do arquivo)\n",
    "with open('../files/01-teste.txt', 'a') as arq:\n",
    "    arq.write('Escrevendo uma linha no modo a.\\n')\n",
    "    arq.write('Outra linha no modo a.\\n')"
   ]
  },
  {
   "cell_type": "code",
   "execution_count": 3,
   "id": "a3d12ce4",
   "metadata": {},
   "outputs": [],
   "source": [
    "# Ler e armazenar o conteudo de um dicionário em um arquivo\n",
    "\n",
    "with open('../files/notas.csv', 'w') as arq:\n",
    "    alunos = {\n",
    "        'Leopoldo':[8.7, 7.8, 9.6],\n",
    "        'Ana Beatriz':[9.8, 10.0, 7.5],\n",
    "        'Augusto': [9.7, 8.9, 10.0],\n",
    "        'Juliane': [7.5, 8.9, 9.8]\n",
    "    }\n",
    "    \n",
    "    for aluno, notas in alunos.items():\n",
    "        # Opção 1\n",
    "        linha = f'{aluno}'\n",
    "        for nota in notas:\n",
    "            linha = linha + f',{nota}'\n",
    "        linha = linha + '\\n'\n",
    "        arq.write(linha)\n",
    "    "
   ]
  },
  {
   "cell_type": "markdown",
   "id": "b1884909",
   "metadata": {},
   "source": [
    "## **Tratamento de Erros**"
   ]
  },
  {
   "cell_type": "code",
   "execution_count": 4,
   "id": "12772359",
   "metadata": {},
   "outputs": [
    {
     "name": "stdout",
     "output_type": "stream",
     "text": [
      "Ok, pode comprar esta bebida\n"
     ]
    }
   ],
   "source": [
    "# Exemplo básico de tratamento de erro\n",
    "try:\n",
    "    idade = int(input('Digite a sua idade')) #aqui fica o código que pode dar erro\n",
    "except ValueError:\n",
    "    idade = -10\n",
    "\n",
    "if idade >= 18:\n",
    "    print('Ok, pode comprar esta bebida')\n",
    "elif idade > 0:\n",
    "    print('Não é permitido comprar bebida')\n",
    "else:\n",
    "    print('Digite uma idade válida')"
   ]
  },
  {
   "cell_type": "code",
   "execution_count": 5,
   "id": "c28ac1a8",
   "metadata": {},
   "outputs": [
    {
     "name": "stdout",
     "output_type": "stream",
     "text": [
      "O arquivo não existe.\n"
     ]
    }
   ],
   "source": [
    "# Exempo de tratamento de erro com arquivos\n",
    "\n",
    "try:\n",
    "    with open('exemplo.txt') as arq:\n",
    "        for linha in arq:\n",
    "            print(linha)\n",
    "except PermissionError:\n",
    "    print('Você não tem permissão para acessar este arquivo.')\n",
    "except FileNotFoundError:\n",
    "    print('O arquivo não existe.')\n",
    "except:\n",
    "    print('Houve algum outro problema no processamento do arquivo.')\n",
    "\n"
   ]
  },
  {
   "cell_type": "code",
   "execution_count": null,
   "id": "94c05521",
   "metadata": {},
   "outputs": [],
   "source": [
    "def fatorial(n):\n",
    "    if n <= 0:\n",
    "        raise ValueError('O número informado é zero ou negativo')\n",
    "    elif n == 1:\n",
    "        return 1\n",
    "    else:\n",
    "        return n * fatorial(n-1)\n",
    "try:\n",
    "    with open('../files/05-fatoriais.txt','w') as arquivo:\n",
    "        arquivo.write(str(fatorial(1)))\n",
    "        arquivo.write('\\n')\n",
    "        arquivo.write(str(fatorial(2)))\n",
    "        arquivo.write('\\n')\n",
    "        arquivo.write(str(fatorial(3)))\n",
    "        arquivo.write('\\n')\n",
    "        try:\n",
    "            arquivo.write(str(fatorial(-3)))\n",
    "            arquivo.write('\\n')\n",
    "        except ValueError as e: \n",
    "            arquivo.write(str(e))\n",
    "            arquivo.write('\\n')\n",
    "        arquivo.write(str(fatorial(4)))\n",
    "        arquivo.write('\\n')\n",
    "        arquivo.write(str(fatorial(5)))\n",
    "        arquivo.write('\\n')\n",
    "        arquivo.write(str(fatorial(6)))\n",
    "        arquivo.write('\\n')\n",
    "except:\n",
    "    print('Houve algum problema no processamento do arquivo')"
   ]
  },
  {
   "cell_type": "markdown",
   "id": "2bbe10c8",
   "metadata": {},
   "source": [
    "## **List Comprehension**"
   ]
  },
  {
   "cell_type": "code",
   "execution_count": null,
   "id": "a12e7ebd",
   "metadata": {},
   "outputs": [],
   "source": [
    "L = [1,2,3,4,5,6,7,8,9,10]\n",
    "\n",
    "# Examples of list comprehension: creating a list from a list\n",
    "SQ_1 = [i**2 for i in L]\n",
    "SQ_2 = [i*2 for i in L]\n",
    "SQ_3 = [str(i) for i in L if i%2 == 0]\n"
   ]
  },
  {
   "cell_type": "markdown",
   "id": "c71aaad9",
   "metadata": {},
   "source": [
    "## **Algumas funções:**"
   ]
  },
  {
   "cell_type": "markdown",
   "id": "d6651764",
   "metadata": {},
   "source": [
    "### Map\n",
    "\n",
    "É uma função built-in do python que aplica uma função aos items de um elemento iterável. Ela retorna\n",
    "os retornos da função encapsulados em um objeto map."
   ]
  },
  {
   "cell_type": "code",
   "execution_count": 37,
   "id": "9b116b91",
   "metadata": {},
   "outputs": [
    {
     "name": "stdout",
     "output_type": "stream",
     "text": [
      "<map object at 0x70cbb0ec3c10>\n",
      "[1, 4, 9, 16, 25, 36, 49, 64, 81]\n",
      "['1', '4', '9', '16', '25', '36', '49', '64', '81']\n"
     ]
    }
   ],
   "source": [
    "\n",
    "def quadrado(n):\n",
    "    return n*n\n",
    "\n",
    "SQ = map(quadrado, range(1,10)) # retorna um objeto do tipo map\n",
    "print(SQ)\n",
    "\n",
    "SQ = list(SQ)\n",
    "print(SQ)\n",
    "\n",
    "print(list(map(str,SQ)))"
   ]
  },
  {
   "cell_type": "markdown",
   "id": "737bc1c4",
   "metadata": {},
   "source": [
    "### Lambda\n",
    "\n",
    "Função anônima"
   ]
  },
  {
   "cell_type": "code",
   "execution_count": 36,
   "id": "b404cc3d",
   "metadata": {},
   "outputs": [],
   "source": [
    "M = list(map(lambda x: x+42 ,SQ))"
   ]
  },
  {
   "cell_type": "markdown",
   "id": "96eb28a1",
   "metadata": {},
   "source": [
    "### Filter\n",
    "\n",
    "Também uma função built-in do python. Ela aplica uma função que retorna um bool em um iterável \n",
    "e retorna os elementos para os quais a função retornou True encapsulados em um objeto filter.\n"
   ]
  },
  {
   "cell_type": "code",
   "execution_count": 38,
   "id": "7fbc7b2c",
   "metadata": {},
   "outputs": [
    {
     "name": "stdout",
     "output_type": "stream",
     "text": [
      "<filter object at 0x70cbc01b3190>\n",
      "[25]\n",
      "[1, 4, 9]\n"
     ]
    }
   ],
   "source": [
    "def divisivel_por_5(n):\n",
    "    return n%5 == 0\n",
    "F = filter(divisivel_por_5, SQ)\n",
    "print(F)\n",
    "\n",
    "F = list(F)\n",
    "print(F)\n",
    "\n",
    "F = list(filter(lambda n: n<10, SQ))\n",
    "print(F)"
   ]
  },
  {
   "cell_type": "markdown",
   "id": "79d4fb86",
   "metadata": {},
   "source": [
    "### Reduce\n",
    "\n",
    "É um método do módulo functools que aplica uma função, de dois argumentos, acumulativa a todos os items de um iterável e retorna um único valor."
   ]
  },
  {
   "cell_type": "code",
   "execution_count": 62,
   "id": "4d2d3c92",
   "metadata": {},
   "outputs": [
    {
     "name": "stdout",
     "output_type": "stream",
     "text": [
      "22\n",
      "55\n",
      "sim\n"
     ]
    }
   ],
   "source": [
    "from functools import reduce\n",
    "\n",
    "def somar(a,b):\n",
    "    return a + b\n",
    "\n",
    "L = [1,2,3,4,5,6,7,8,9,10]\n",
    "\n",
    "R_1 = reduce(somar, [4,5,6,7])\n",
    "R_2 = reduce(lambda a,b: b+a, L)\n",
    "print(R_1)\n",
    "print(R_2)\n",
    "\n",
    "def maluca(n,a):\n",
    "    return 'sim'\n",
    "\n",
    "print(reduce(maluca,L))\n"
   ]
  }
 ],
 "metadata": {
  "kernelspec": {
   "display_name": "Python 3",
   "language": "python",
   "name": "python3"
  },
  "language_info": {
   "codemirror_mode": {
    "name": "ipython",
    "version": 3
   },
   "file_extension": ".py",
   "mimetype": "text/x-python",
   "name": "python",
   "nbconvert_exporter": "python",
   "pygments_lexer": "ipython3",
   "version": "3.12.11"
  }
 },
 "nbformat": 4,
 "nbformat_minor": 5
}
