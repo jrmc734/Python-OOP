{
    "cells": [
        {
            "cell_type": "markdown",
            "id": "5963643f",
            "metadata": {},
            "source": [
                "## Recursão\n",
                "Alguns exemplos de código que utilizam recursão.\n",
                "\n",
                "**Palíndromos** são palavras ou frases que podem ser lidas da mesma maneira da esquerda para direita \n",
                "ou da direita para esquerda. Exemplos: ana, osso, radar, xanax."
            ]
        },
        {
            "cell_type": "code",
            "execution_count": 6,
            "id": "68749acc",
            "metadata": {},
            "outputs": [
                {
                    "name": "stdout",
                    "output_type": "stream",
                    "text": [
                        "xanax\n",
                        "ana\n",
                        "n\n",
                        "True\n",
                        "-----\n",
                        "xabcx\n",
                        "abc\n",
                        "False\n",
                        "-----\n",
                        "socorrammesubinoonibusemmarrocos\n",
                        "ocorrammesubinoonibusemmarroco\n",
                        "corrammesubinoonibusemmarroc\n",
                        "orrammesubinoonibusemmarro\n",
                        "rrammesubinoonibusemmarr\n",
                        "rammesubinoonibusemmar\n",
                        "ammesubinoonibusemma\n",
                        "mmesubinoonibusemm\n",
                        "mesubinoonibusem\n",
                        "esubinoonibuse\n",
                        "subinoonibus\n",
                        "ubinoonibu\n",
                        "binoonib\n",
                        "inooni\n",
                        "noon\n",
                        "oo\n",
                        "\n",
                        "True\n"
                    ]
                }
            ],
            "source": [
                "def normaliza(s: str) -> str:\n",
                "    palavra = s.lower()\n",
                "    resultado = ''\n",
                "\n",
                "    for c in palavra:\n",
                "        if c in 'abcdefghijklmnopqrstuvwxyz':\n",
                "            resultado += c\n",
                "    \n",
                "    return resultado\n",
                "\n",
                "def palindromo(palavra: str) -> bool:\n",
                "    print(palavra)\n",
                "\n",
                "    if len(palavra) > 1:\n",
                "        return palavra[0] == palavra[-1] and palindromo(palavra[1:-1])\n",
                "    else:\n",
                "        return True\n",
                "\n",
                "print(palindromo(normaliza('XANAX')))\n",
                "print('-----')\n",
                "print(palindromo(normaliza('XABCX')))\n",
                "print('-----')\n",
                "print(palindromo(normaliza('Socorram-me, subi no onibus em Marrocos')))\n"
            ]
        },
        {
            "cell_type": "markdown",
            "id": "453224fc",
            "metadata": {},
            "source": [
                "**Soma de números**"
            ]
        },
        {
            "cell_type": "code",
            "execution_count": null,
            "id": "2e9e793b",
            "metadata": {},
            "outputs": [
                {
                    "name": "stdout",
                    "output_type": "stream",
                    "text": [
                        "15\n"
                    ]
                }
            ],
            "source": [
                "# Soma dos numeros de 1 a n\n",
                "def soma_recursiva(n):\n",
                "    if n == 1:\n",
                "        return 1\n",
                "    else:\n",
                "        return n + soma_recursiva(n-1)\n",
                "\n",
                "# Soma dos numeros em uma lista\n",
                "def soma_numeros_lista(L):\n",
                "    if len(L) > 0:\n",
                "        return L[0] + soma_numeros_lista(L[1:])\n",
                "    elif len(L) == 1:\n",
                "        return L[0]\n",
                "    else:\n",
                "        return 0\n",
                "\n",
                "\n",
                "print(soma_recursiva(5))"
            ]
        },
        {
            "cell_type": "markdown",
            "id": "f7f42218",
            "metadata": {},
            "source": [
                "**Busca Binária**\n",
                "Ao buscarmos um elemento em uma lista podemos utilizar:\n",
                "- Busca linear, com complexidade O(n)\n",
                "- Busca binária, com complexidade **O(log(n))**\n",
                "\n",
                "OBS: Na busca binária a lista precisa estar ordenada"
            ]
        },
        {
            "cell_type": "code",
            "execution_count": null,
            "id": "2febded3",
            "metadata": {},
            "outputs": [
                {
                    "name": "stdout",
                    "output_type": "stream",
                    "text": [
                        "Elemento 5 está na lista na posição 2.\n"
                    ]
                }
            ],
            "source": [
                "def busca_binaria(L, esq, dir, e):\n",
                "    \"\"\"\n",
                "        Input: L:   lista de inteiros\n",
                "               esq: indice do primeiro elemento\n",
                "               dir: índice do último elemento\n",
                "               \n",
                "        Output: índice do elemento buscado ou None, caso\n",
                "        não encontre o elemento\n",
                "    \"\"\"\n",
                "\n",
                "    if dir >= esq:\n",
                "        meio = (dir+esq) // 2\n",
                "        if L[meio] == e:\n",
                "            return meio\n",
                "        elif L[meio] > e:\n",
                "            return busca_binaria(L, esq, meio-1, e)\n",
                "        else:\n",
                "            return busca_binaria(L, meio+1, dir, e)\n",
                "    else:\n",
                "        return None\n",
                "\n",
                "\n",
                "L = [1, 5, 7 ,9, 2, 224, 9875, 89]\n",
                "M = sorted(L)\n",
                "elemento = 5\n",
                "\n",
                "busca = busca_binaria(M,0, len(M), elemento)\n",
                "\n",
                "if busca != None:\n",
                "    print(f'Elemento {elemento} está na lista na posição {busca}.')\n",
                "else:\n",
                "    print(f'Elemento {elemento} não está na lista.')\n",
                "\n",
                "\n"
            ]
        }
    ],
    "metadata": {
        "kernelspec": {
            "display_name": "Python 3",
            "language": "python",
            "name": "python3"
        },
        "language_info": {
            "codemirror_mode": {
                "name": "ipython",
                "version": 3
            },
            "file_extension": ".py",
            "mimetype": "text/x-python",
            "name": "python",
            "nbconvert_exporter": "python",
            "pygments_lexer": "ipython3",
            "version": "3.12.11"
        }
    },
    "nbformat": 4,
    "nbformat_minor": 5
}
