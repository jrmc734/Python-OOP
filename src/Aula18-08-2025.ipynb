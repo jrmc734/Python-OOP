{
    "cells": [
        {
            "cell_type": "markdown",
            "id": "5963643f",
            "metadata": {},
            "source": [
                "## **Recursão**\n",
                "Alguns exemplos de código que utilizam recursão.\n",
                "\n",
                "**Palíndromos** são palavras ou frases que podem ser lidas da mesma maneira da esquerda para direita \n",
                "ou da direita para esquerda. Exemplos: ana, osso, radar, xanax."
            ]
        },
        {
            "cell_type": "code",
            "execution_count": 6,
            "id": "68749acc",
            "metadata": {},
            "outputs": [
                {
                    "name": "stdout",
                    "output_type": "stream",
                    "text": [
                        "xanax\n",
                        "ana\n",
                        "n\n",
                        "True\n",
                        "-----\n",
                        "xabcx\n",
                        "abc\n",
                        "False\n",
                        "-----\n",
                        "socorrammesubinoonibusemmarrocos\n",
                        "ocorrammesubinoonibusemmarroco\n",
                        "corrammesubinoonibusemmarroc\n",
                        "orrammesubinoonibusemmarro\n",
                        "rrammesubinoonibusemmarr\n",
                        "rammesubinoonibusemmar\n",
                        "ammesubinoonibusemma\n",
                        "mmesubinoonibusemm\n",
                        "mesubinoonibusem\n",
                        "esubinoonibuse\n",
                        "subinoonibus\n",
                        "ubinoonibu\n",
                        "binoonib\n",
                        "inooni\n",
                        "noon\n",
                        "oo\n",
                        "\n",
                        "True\n"
                    ]
                }
            ],
            "source": [
                "def normaliza(s: str) -> str:\n",
                "    palavra = s.lower()\n",
                "    resultado = ''\n",
                "\n",
                "    for c in palavra:\n",
                "        if c in 'abcdefghijklmnopqrstuvwxyz':\n",
                "            resultado += c\n",
                "    \n",
                "    return resultado\n",
                "\n",
                "def palindromo(palavra: str) -> bool:\n",
                "    print(palavra)\n",
                "\n",
                "    if len(palavra) > 1:\n",
                "        return palavra[0] == palavra[-1] and palindromo(palavra[1:-1])\n",
                "    else:\n",
                "        return True\n",
                "\n",
                "print(palindromo(normaliza('XANAX')))\n",
                "print('-----')\n",
                "print(palindromo(normaliza('XABCX')))\n",
                "print('-----')\n",
                "print(palindromo(normaliza('Socorram-me, subi no onibus em Marrocos')))\n"
            ]
        },
        {
            "cell_type": "markdown",
            "id": "453224fc",
            "metadata": {},
            "source": [
                "**Soma de números**"
            ]
        },
        {
            "cell_type": "code",
            "execution_count": null,
            "id": "2e9e793b",
            "metadata": {},
            "outputs": [
                {
                    "name": "stdout",
                    "output_type": "stream",
                    "text": [
                        "15\n"
                    ]
                }
            ],
            "source": [
                "# Soma dos numeros de 1 a n\n",
                "def soma_recursiva(n):\n",
                "    if n == 1:\n",
                "        return 1\n",
                "    else:\n",
                "        return n + soma_recursiva(n-1)\n",
                "\n",
                "# Soma dos numeros em uma lista\n",
                "def soma_numeros_lista(L):\n",
                "    if len(L) > 0:\n",
                "        return L[0] + soma_numeros_lista(L[1:])\n",
                "    elif len(L) == 1:\n",
                "        return L[0]\n",
                "    else:\n",
                "        return 0\n",
                "\n",
                "\n",
                "print(soma_recursiva(5))"
            ]
        },
        {
            "cell_type": "markdown",
            "id": "f7f42218",
            "metadata": {},
            "source": [
                "**Busca Binária**\n",
                "\n",
                "Ao buscarmos um elemento em uma lista podemos utilizar:\n",
                "- Busca linear, com complexidade O(n)\n",
                "- Busca binária, com complexidade **O(log(n))**\n",
                "\n",
                "OBS: Na busca binária a lista precisa estar ordenada."
            ]
        },
        {
            "cell_type": "code",
            "execution_count": 5,
            "id": "2febded3",
            "metadata": {},
            "outputs": [
                {
                    "name": "stdout",
                    "output_type": "stream",
                    "text": [
                        "Elemento 0 não está na lista.\n"
                    ]
                }
            ],
            "source": [
                "def busca_binaria(L, e):\n",
                "    \"\"\"\n",
                "        Input: L:   lista de inteiros\n",
                "               esq: indice do primeiro elemento\n",
                "               dir: índice do último elemento\n",
                "               \n",
                "        Output: índice do elemento buscado ou None, caso\n",
                "        não encontre o elemento\n",
                "    \"\"\"\n",
                "\n",
                "    if len(L) > 0:\n",
                "        meio = len(L) // 2\n",
                "        if L[meio] == e:\n",
                "            return meio\n",
                "        elif L[meio] > e:\n",
                "            return busca_binaria(L[:meio], e)\n",
                "        else:\n",
                "            return busca_binaria(L[meio+1:], e)\n",
                "    else:\n",
                "        return None\n",
                "\n",
                "\n",
                "L = [1, 5, 7 ,9, 2, 224, 9875, 89]\n",
                "M = sorted(L)\n",
                "elemento = 0\n",
                "\n",
                "busca = busca_binaria(M, elemento)\n",
                "\n",
                "if busca != None:\n",
                "    print(f'Elemento {elemento} está na lista na posição {busca}.')\n",
                "else:\n",
                "    print(f'Elemento {elemento} não está na lista.')\n",
                "\n",
                "\n"
            ]
        },
        {
            "cell_type": "markdown",
            "id": "7efec14e",
            "metadata": {},
            "source": [
                "## **Arquivos**"
            ]
        },
        {
            "cell_type": "code",
            "execution_count": null,
            "id": "c0f0bbaa",
            "metadata": {},
            "outputs": [
                {
                    "name": "stdout",
                    "output_type": "stream",
                    "text": [
                        "<_io.TextIOWrapper name='./files/exemplo.txt' mode='r' encoding='UTF-8'>\n",
                        "<class '_io.TextIOWrapper'>\n",
                        "- Olá, tudo bem?\n",
                        "- Nossa, faz tempo que não nos vemos\n",
                        "- Sim, como anda a vida?\n",
                        "<class 'str'>\n",
                        "- Olá, tudo bem?\n",
                        "- Nossa, faz tempo que não nos vemos\n",
                        "- Sim, como anda a vida?"
                    ]
                }
            ],
            "source": [
                "arquivo = open('./files/exemplo.txt','r') # o caminho é a partir da pasta atual\n",
                "\n",
                "print(arquivo)\n",
                "print(type(arquivo))\n",
                "conteudo = arquivo.read()\n",
                "print(conteudo)\n",
                "print(type(conteudo))\n",
                "\n",
                "arquivo.close()\n",
                "\n",
                "# Melhor maneira de abrir um arquivo\n",
                "with open('./files/exemplo.txt','r') as arq:\n",
                "    for linha in arq:\n",
                "        print(linha, end='')"
            ]
        },
        {
            "cell_type": "code",
            "execution_count": 19,
            "id": "e5a712b2",
            "metadata": {},
            "outputs": [
                {
                    "name": "stdout",
                    "output_type": "stream",
                    "text": [
                        "7595.2\n"
                    ]
                }
            ],
            "source": [
                "def media_num_arquivo(arq_path):\n",
                "    soma = 0\n",
                "    contador = 0\n",
                "    with open(arq_path, 'r') as arq:\n",
                "        for num in arq:\n",
                "            soma += int(num)\n",
                "            contador += 1\n",
                " \n",
                "    return soma/contador\n",
                "\n",
                "arq_path = './files/02-exemplo.txt'\n",
                "\n",
                "print(media_num_arquivo(arq_path))\n"
            ]
        },
        {
            "cell_type": "code",
            "execution_count": 47,
            "id": "4b441256",
            "metadata": {},
            "outputs": [
                {
                    "name": "stdout",
                    "output_type": "stream",
                    "text": [
                        "{'João Silva': [8.5, 7.0, 9.0, 6.5, 8.0, 7.5, 9.5, 8.0, 7.0, 8.5], 'Maria Oliveira': [7.5, 8.0, 6.5, 7.0, 8.5, 9.0, 7.0, 8.0, 6.5, 7.5], 'Pedro Santos': [9.0, 8.5, 7.5, 8.0, 9.5, 8.0, 7.0, 8.5, 9.0, 8.5], 'Ana Costa': [6.5, 7.0, 8.0, 7.5, 6.0, 7.0, 8.5, 7.0, 7.5, 6.5], 'Lucas Pereira': [8.0, 7.5, 9.0, 8.5, 7.0, 8.0, 9.5, 8.0, 8.5, 9.0], 'Juliana Rocha': [9.5, 8.5, 9.0, 8.0, 9.5, 8.5, 9.0, 8.5, 9.5, 9.0], 'Rafael Lima': [7.0, 6.5, 7.5, 8.0, 7.0, 8.5, 7.5, 6.5, 7.0, 7.5], 'Camila Fernandes': [8.0, 9.0, 8.5, 9.5, 8.0, 9.0, 8.5, 9.0, 8.0, 9.5], 'Bruno Almeida': [6.5, 7.0, 6.0, 7.5, 6.5, 7.0, 6.5, 7.0, 6.5, 7.0], 'Fernanda Ribeiro': [9.0, 8.5, 9.5, 8.0, 9.0, 8.5, 9.5, 8.0, 9.0, 9.5], 'Mateus Carvalho': [7.5, 8.0, 7.0, 7.5, 8.0, 7.5, 8.5, 7.0, 7.5, 8.0], 'Patrícia Gomes': [8.5, 9.0, 8.0, 9.5, 8.5, 9.0, 8.5, 9.0, 8.0, 9.5], 'André Martins': [6.0, 6.5, 7.0, 6.5, 7.0, 7.5, 7.0, 6.5, 7.0, 6.0], 'Larissa Barros': [9.0, 8.5, 9.0, 9.5, 8.5, 9.0, 9.5, 8.5, 9.0, 9.5], 'Carlos Nogueira': [8.0, 7.5, 8.5, 8.0, 8.5, 7.5, 8.0, 7.5, 8.0, 8.5], 'Renata Teixeira': [7.5, 8.0, 7.0, 7.5, 8.0, 7.5, 8.5, 7.0, 8.0, 7.5], 'Diego Castro': [6.5, 7.0, 6.0, 7.5, 6.5, 7.0, 6.5, 7.0, 6.5, 7.0], 'Isabela Mendes': [9.5, 9.0, 8.5, 9.5, 9.0, 9.5, 9.0, 9.5, 9.0, 9.5], 'Felipe Araújo': [8.5, 7.5, 8.0, 8.5, 7.5, 8.0, 8.5, 7.5, 8.0, 8.5], 'Sofia Correia': [7.0, 7.5, 8.0, 7.5, 8.0, 7.5, 7.0, 7.5, 8.0, 7.5], 'Gustavo Freitas': [9.0, 8.5, 9.5, 9.0, 9.5, 9.0, 8.5, 9.5, 9.0, 9.5], 'Beatriz Cunha': [6.5, 7.0, 6.5, 7.0, 6.5, 7.0, 6.5, 7.0, 6.5, 7.0], 'Henrique Duarte': [8.0, 8.5, 8.0, 8.5, 8.0, 8.5, 8.0, 8.5, 8.0, 8.5], 'Carolina Batista': [7.5, 7.0, 7.5, 8.0, 7.5, 8.0, 7.5, 8.0, 7.5, 8.0], 'Thiago Moreira': [9.5, 9.0, 9.5, 9.0, 9.5, 9.0, 9.5, 9.0, 9.5, 9.0], 'Amanda Lopes': [8.0, 8.5, 8.0, 8.5, 8.0, 8.5, 8.0, 8.5, 8.0, 8.5], 'Eduardo Barbosa': [7.0, 6.5, 7.0, 6.5, 7.0, 6.5, 7.0, 6.5, 7.0, 6.5], 'Natália Moura': [8.5, 9.0, 8.5, 9.0, 8.5, 9.0, 8.5, 9.0, 8.5, 9.0], 'Rodrigo Farias': [6.5, 7.0, 6.5, 7.0, 6.5, 7.0, 6.5, 7.0, 6.5, 7.0], 'Luana Carvalho': [9.0, 9.5, 9.0, 9.5, 9.0, 9.5, 9.0, 9.5, 9.0, 9.5]}\n",
                        "{'PROD0001 ': {'nome': 'Notebook Dell Inspiron', 'valor': 2979.27, 'qtd': 67}, 'PROD0002 ': {'nome': 'Smartphone Samsung Galaxy A54', 'valor': 680.53, 'qtd': 18}, 'PROD0003 ': {'nome': 'Fone de Ouvido Bluetooth JBL', 'valor': 2907.31, 'qtd': 42}, 'PROD0004 ': {'nome': 'Mouse Logitech Wireless', 'valor': 694.74, 'qtd': 25}, 'PROD0005 ': {'nome': 'Teclado Mecânico Redragon', 'valor': 3485.93, 'qtd': 25}, 'PROD0006 ': {'nome': 'Monitor LG 24 Polegadas', 'valor': 1776.11, 'qtd': 31}, 'PROD0007 ': {'nome': 'Cadeira Gamer DXRacer', 'valor': 3480.21, 'qtd': 36}, 'PROD0008 ': {'nome': 'Mesa de Escritório MDF', 'valor': 3425.84, 'qtd': 51}, 'PROD0009 ': {'nome': 'Impressora HP LaserJet', 'valor': 1906.92, 'qtd': 5}, 'PROD0010 ': {'nome': 'HD Externo Seagate 1TB', 'valor': 1113.83, 'qtd': 80}, 'PROD0011 ': {'nome': 'SSD Kingston 480GB', 'valor': 1494.72, 'qtd': 52}, 'PROD0012 ': {'nome': 'Placa de Vídeo NVIDIA RTX 4060', 'valor': 2804.69, 'qtd': 40}, 'PROD0013 ': {'nome': 'Memória RAM Corsair 16GB', 'valor': 2804.87, 'qtd': 38}, 'PROD0014 ': {'nome': 'Cabo HDMI 2.0 2m', 'valor': 390.04, 'qtd': 39}, 'PROD0015 ': {'nome': 'Carregador Portátil 10000mAh', 'valor': 1058.66, 'qtd': 61}, 'PROD0016 ': {'nome': 'Smartwatch Amazfit Bip', 'valor': 752.49, 'qtd': 19}, 'PROD0017 ': {'nome': 'Caixa de Som Alexa Echo Dot', 'valor': 3039.57, 'qtd': 48}, 'PROD0018 ': {'nome': 'Webcam Logitech C920', 'valor': 886.81, 'qtd': 44}}\n"
                    ]
                }
            ],
            "source": [
                "# Ler e armazenar o conteudo de um arquivo em um dicionário\n",
                "def ler_arquivos(arq_path, separador) -> dict:\n",
                "    conteudo = {}\n",
                "    with open(arq_path) as arq:\n",
                "        for linha in arq:\n",
                "            conteudo[linha.split(separador)[0]] = linha.split(separador)[1:]\n",
                "    return conteudo\n",
                "\n",
                "arq_path = './files/04-notas.txt'\n",
                "arq_path_02 = './files/05-produtos.csv'\n",
                "\n",
                "conteudo_01 = ler_arquivos(arq_path, ',')\n",
                "conteudo_02 = ler_arquivos(arq_path_02, '|')\n",
                "\n",
                "# Organizando o conteúdo_01\n",
                "for i in conteudo_01:\n",
                "    conteudo_01[i] = [float(i) for i in conteudo_01[i]]\n",
                "\n",
                "print(conteudo_01)\n",
                "\n",
                "# Organizando o conteúdo_02\n",
                "for i in conteudo_02:\n",
                "    conteudo_02[i] = {'nome': conteudo_02[i][0].strip(), 'valor': float(conteudo_02[i][1]), \n",
                "                      'qtd':int(conteudo_02[i][2])}\n",
                "\n",
                "print(conteudo_02)\n",
                "\n"
            ]
        }
    ],
    "metadata": {
        "kernelspec": {
            "display_name": "Python 3",
            "language": "python",
            "name": "python3"
        },
        "language_info": {
            "codemirror_mode": {
                "name": "ipython",
                "version": 3
            },
            "file_extension": ".py",
            "mimetype": "text/x-python",
            "name": "python",
            "nbconvert_exporter": "python",
            "pygments_lexer": "ipython3",
            "version": "3.12.11"
        }
    },
    "nbformat": 4,
    "nbformat_minor": 5
}
